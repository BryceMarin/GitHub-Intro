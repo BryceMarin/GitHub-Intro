{
 "cells": [
  {
   "cell_type": "code",
   "execution_count": 7,
   "id": "1a38abd7",
   "metadata": {},
   "outputs": [
    {
     "name": "stdout",
     "output_type": "stream",
     "text": [
      "{'Bryce': {'GPA': 3.8, 'Major': 'English', 'Number of Courses': 45},\n",
      " 'Mann': {'GPA': 3.6, 'Major': 'Business', 'Number of Courses': 47},\n",
      " 'Tai': {'GPA': 3.4,\n",
      "         'Major': 'International Relations',\n",
      "         'Number of Courses': 38}}\n"
     ]
    }
   ],
   "source": [
    "import pprint\n",
    "# Student GPA & Major & Number of Courses\n",
    "student_info = {\n",
    "    \"Bryce\":{\"GPA\":3.8, \"Major\":\"English\", \"Number of Courses\":45},\n",
    "    \"Mann\":{\"GPA\":3.6, \"Major\":\"Business\", \"Number of Courses\":47},\n",
    "    \"Tai\":{\"GPA\":3.4, \"Major\":\"International Relations\", \"Number of Courses\":38}\n",
    "}\n",
    "pprint.pprint(student_info)"
   ]
  },
  {
   "cell_type": "code",
   "execution_count": 10,
   "id": "6fc47680",
   "metadata": {},
   "outputs": [
    {
     "name": "stdout",
     "output_type": "stream",
     "text": [
      "Before Apending:  [1 2 3]\n",
      "After Apending:  [1 2 3 4 5]\n",
      "1\n",
      "2\n",
      "3\n",
      "4\n",
      "5\n",
      "\n",
      "Adding Arrays: \n",
      "2\n",
      "4\n",
      "6\n",
      "8\n",
      "10\n"
     ]
    }
   ],
   "source": [
    "import numpy as np\n",
    "\n",
    "arr1 = np.array([1,2,3])\n",
    "print(\"Before Apending: \", arr1)\n",
    "arr1 = np.append(arr1, 4)\n",
    "arr1 = np.append(arr1, [5])\n",
    "print(\"After Apending: \", arr1)\n",
    "for e in arr1:\n",
    "    print(e)\n",
    "\n",
    "arr2 = arr1 + arr1\n",
    "print(\"\\nAdding Arrays: \")\n",
    "for e in arr2:\n",
    "    print(e)"
   ]
  }
 ],
 "metadata": {
  "kernelspec": {
   "display_name": "CTBA",
   "language": "python",
   "name": "python3"
  },
  "language_info": {
   "codemirror_mode": {
    "name": "ipython",
    "version": 3
   },
   "file_extension": ".py",
   "mimetype": "text/x-python",
   "name": "python",
   "nbconvert_exporter": "python",
   "pygments_lexer": "ipython3",
   "version": "3.13.5"
  }
 },
 "nbformat": 4,
 "nbformat_minor": 5
}
